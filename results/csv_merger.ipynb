{
 "cells": [
  {
   "cell_type": "code",
   "execution_count": 1,
   "metadata": {},
   "outputs": [],
   "source": [
    "import numpy as np\n",
    "import pandas as pd"
   ]
  },
  {
   "cell_type": "code",
   "execution_count": 2,
   "metadata": {},
   "outputs": [],
   "source": [
    "score1 = 'ImageNet16-120/snip/ImageNet16-120-snip_7500.csv'\n",
    "score2 = 'ImageNet16-120/snip/ImageNet16-120-snip_end.csv'\n"
   ]
  },
  {
   "cell_type": "code",
   "execution_count": 3,
   "metadata": {},
   "outputs": [],
   "source": [
    "df1 = pd.read_csv(score1, index_col=0)\n",
    "df2 = pd.read_csv(score2, index_col=0)\n"
   ]
  },
  {
   "cell_type": "code",
   "execution_count": 5,
   "metadata": {},
   "outputs": [
    {
     "data": {
      "text/html": [
       "<div>\n",
       "<style scoped>\n",
       "    .dataframe tbody tr th:only-of-type {\n",
       "        vertical-align: middle;\n",
       "    }\n",
       "\n",
       "    .dataframe tbody tr th {\n",
       "        vertical-align: top;\n",
       "    }\n",
       "\n",
       "    .dataframe thead th {\n",
       "        text-align: right;\n",
       "    }\n",
       "</style>\n",
       "<table border=\"1\" class=\"dataframe\">\n",
       "  <thead>\n",
       "    <tr style=\"text-align: right;\">\n",
       "      <th></th>\n",
       "      <th>score</th>\n",
       "      <th>time</th>\n",
       "    </tr>\n",
       "    <tr>\n",
       "      <th>uid</th>\n",
       "      <th></th>\n",
       "      <th></th>\n",
       "    </tr>\n",
       "  </thead>\n",
       "  <tbody>\n",
       "    <tr>\n",
       "      <th>7500</th>\n",
       "      <td>84.788071</td>\n",
       "      <td>0.197807</td>\n",
       "    </tr>\n",
       "    <tr>\n",
       "      <th>7501</th>\n",
       "      <td>0.000000</td>\n",
       "      <td>0.102253</td>\n",
       "    </tr>\n",
       "    <tr>\n",
       "      <th>7502</th>\n",
       "      <td>17.942078</td>\n",
       "      <td>0.183822</td>\n",
       "    </tr>\n",
       "    <tr>\n",
       "      <th>7503</th>\n",
       "      <td>5.637149</td>\n",
       "      <td>0.188515</td>\n",
       "    </tr>\n",
       "    <tr>\n",
       "      <th>7504</th>\n",
       "      <td>95.645706</td>\n",
       "      <td>0.145467</td>\n",
       "    </tr>\n",
       "    <tr>\n",
       "      <th>...</th>\n",
       "      <td>...</td>\n",
       "      <td>...</td>\n",
       "    </tr>\n",
       "    <tr>\n",
       "      <th>15620</th>\n",
       "      <td>5.862645</td>\n",
       "      <td>0.061639</td>\n",
       "    </tr>\n",
       "    <tr>\n",
       "      <th>15621</th>\n",
       "      <td>14.658931</td>\n",
       "      <td>0.125604</td>\n",
       "    </tr>\n",
       "    <tr>\n",
       "      <th>15622</th>\n",
       "      <td>220.529907</td>\n",
       "      <td>0.134255</td>\n",
       "    </tr>\n",
       "    <tr>\n",
       "      <th>15623</th>\n",
       "      <td>4.914482</td>\n",
       "      <td>0.064551</td>\n",
       "    </tr>\n",
       "    <tr>\n",
       "      <th>15624</th>\n",
       "      <td>1267.559937</td>\n",
       "      <td>0.130813</td>\n",
       "    </tr>\n",
       "  </tbody>\n",
       "</table>\n",
       "<p>8125 rows × 2 columns</p>\n",
       "</div>"
      ],
      "text/plain": [
       "             score      time\n",
       "uid                         \n",
       "7500     84.788071  0.197807\n",
       "7501      0.000000  0.102253\n",
       "7502     17.942078  0.183822\n",
       "7503      5.637149  0.188515\n",
       "7504     95.645706  0.145467\n",
       "...            ...       ...\n",
       "15620     5.862645  0.061639\n",
       "15621    14.658931  0.125604\n",
       "15622   220.529907  0.134255\n",
       "15623     4.914482  0.064551\n",
       "15624  1267.559937  0.130813\n",
       "\n",
       "[8125 rows x 2 columns]"
      ]
     },
     "execution_count": 5,
     "metadata": {},
     "output_type": "execute_result"
    }
   ],
   "source": [
    "df2"
   ]
  },
  {
   "cell_type": "code",
   "execution_count": 6,
   "metadata": {},
   "outputs": [],
   "source": [
    "scores = pd.concat([df1,df2])"
   ]
  },
  {
   "cell_type": "code",
   "execution_count": 7,
   "metadata": {},
   "outputs": [
    {
     "data": {
      "text/html": [
       "<div>\n",
       "<style scoped>\n",
       "    .dataframe tbody tr th:only-of-type {\n",
       "        vertical-align: middle;\n",
       "    }\n",
       "\n",
       "    .dataframe tbody tr th {\n",
       "        vertical-align: top;\n",
       "    }\n",
       "\n",
       "    .dataframe thead th {\n",
       "        text-align: right;\n",
       "    }\n",
       "</style>\n",
       "<table border=\"1\" class=\"dataframe\">\n",
       "  <thead>\n",
       "    <tr style=\"text-align: right;\">\n",
       "      <th></th>\n",
       "      <th>snip</th>\n",
       "      <th>time</th>\n",
       "    </tr>\n",
       "    <tr>\n",
       "      <th>uid</th>\n",
       "      <th></th>\n",
       "      <th></th>\n",
       "    </tr>\n",
       "  </thead>\n",
       "  <tbody>\n",
       "    <tr>\n",
       "      <th>0</th>\n",
       "      <td>5.099155</td>\n",
       "      <td>0.123597</td>\n",
       "    </tr>\n",
       "    <tr>\n",
       "      <th>1</th>\n",
       "      <td>23.622377</td>\n",
       "      <td>0.151921</td>\n",
       "    </tr>\n",
       "    <tr>\n",
       "      <th>2</th>\n",
       "      <td>8.552412</td>\n",
       "      <td>0.143744</td>\n",
       "    </tr>\n",
       "    <tr>\n",
       "      <th>3</th>\n",
       "      <td>5.862645</td>\n",
       "      <td>0.082297</td>\n",
       "    </tr>\n",
       "    <tr>\n",
       "      <th>4</th>\n",
       "      <td>3.596310</td>\n",
       "      <td>0.120308</td>\n",
       "    </tr>\n",
       "    <tr>\n",
       "      <th>...</th>\n",
       "      <td>...</td>\n",
       "      <td>...</td>\n",
       "    </tr>\n",
       "    <tr>\n",
       "      <th>15620</th>\n",
       "      <td>5.862645</td>\n",
       "      <td>0.061639</td>\n",
       "    </tr>\n",
       "    <tr>\n",
       "      <th>15621</th>\n",
       "      <td>14.658931</td>\n",
       "      <td>0.125604</td>\n",
       "    </tr>\n",
       "    <tr>\n",
       "      <th>15622</th>\n",
       "      <td>220.529907</td>\n",
       "      <td>0.134255</td>\n",
       "    </tr>\n",
       "    <tr>\n",
       "      <th>15623</th>\n",
       "      <td>4.914482</td>\n",
       "      <td>0.064551</td>\n",
       "    </tr>\n",
       "    <tr>\n",
       "      <th>15624</th>\n",
       "      <td>1267.559937</td>\n",
       "      <td>0.130813</td>\n",
       "    </tr>\n",
       "  </tbody>\n",
       "</table>\n",
       "<p>15625 rows × 2 columns</p>\n",
       "</div>"
      ],
      "text/plain": [
       "              snip      time\n",
       "uid                         \n",
       "0         5.099155  0.123597\n",
       "1        23.622377  0.151921\n",
       "2         8.552412  0.143744\n",
       "3         5.862645  0.082297\n",
       "4         3.596310  0.120308\n",
       "...            ...       ...\n",
       "15620     5.862645  0.061639\n",
       "15621    14.658931  0.125604\n",
       "15622   220.529907  0.134255\n",
       "15623     4.914482  0.064551\n",
       "15624  1267.559937  0.130813\n",
       "\n",
       "[15625 rows x 2 columns]"
      ]
     },
     "execution_count": 7,
     "metadata": {},
     "output_type": "execute_result"
    }
   ],
   "source": [
    "scores = scores.rename(columns={\"score\": \"snip\"})\n",
    "scores"
   ]
  },
  {
   "cell_type": "code",
   "execution_count": 8,
   "metadata": {},
   "outputs": [],
   "source": [
    "scores.to_csv(\"ImageNet16-120/snip/ImageNet16-120-snip.csv\")"
   ]
  },
  {
   "cell_type": "code",
   "execution_count": 35,
   "metadata": {},
   "outputs": [],
   "source": [
    "hook_logdet = pd.read_csv('cifar10/hook_logdet/cifar10-hook_logdet.csv', index_col=0)\n",
    "snip = pd.read_csv('cifar10/snip/cifar10-snip.csv', index_col=0)\n",
    "synflow = pd.read_csv('cifar10/synflow/cifar10-synflow.csv', index_col=0)"
   ]
  },
  {
   "cell_type": "code",
   "execution_count": 38,
   "metadata": {},
   "outputs": [
    {
     "name": "stdout",
     "output_type": "stream",
     "text": [
      "             score      time\n",
      "uid                         \n",
      "0      1548.913915  0.090624\n",
      "1      1639.584643  0.111731\n",
      "2      1532.348715  0.093855\n",
      "3      1314.241090  0.047676\n",
      "4      1575.582253  0.099478\n",
      "...            ...       ...\n",
      "15620  1314.241090  0.041360\n",
      "15621  1627.047979  0.112576\n",
      "15622  1694.421808  0.133822\n",
      "15623  1248.401354  0.044228\n",
      "15624  1697.727074  0.141401\n",
      "\n",
      "[15625 rows x 2 columns]\n",
      "             snip      time\n",
      "uid                        \n",
      "0        3.678933  0.138187\n",
      "1       16.400244  0.157618\n",
      "2        6.685623  0.115558\n",
      "3        4.511635  0.054050\n",
      "4        2.269407  0.092537\n",
      "...           ...       ...\n",
      "15620    4.511635  0.073583\n",
      "15621   11.092735  0.189994\n",
      "15622  126.082687  0.184772\n",
      "15623    3.918983  0.063400\n",
      "15624  606.995789  0.212141\n",
      "\n",
      "[15625 rows x 2 columns]\n",
      "            synflow      time\n",
      "uid                          \n",
      "0      1.395120e+20  0.143815\n",
      "1      1.017986e+36  0.225835\n",
      "2      6.162668e+25  0.117440\n",
      "3      2.377096e+06  0.051628\n",
      "4      5.957027e+23  0.103041\n",
      "...             ...       ...\n",
      "15620  2.377096e+06  0.056530\n",
      "15621  4.614123e+15  0.199522\n",
      "15622  1.241508e+33  0.249983\n",
      "15623  8.103119e+10  0.048501\n",
      "15624  3.793663e+29  0.176804\n",
      "\n",
      "[15625 rows x 2 columns]\n"
     ]
    }
   ],
   "source": [
    "print(hook_logdet)\n",
    "print(snip)\n",
    "print(synflow)"
   ]
  },
  {
   "cell_type": "code",
   "execution_count": 39,
   "metadata": {},
   "outputs": [
    {
     "data": {
      "text/plain": [
       "1548.2298967838287"
      ]
     },
     "execution_count": 39,
     "metadata": {},
     "output_type": "execute_result"
    }
   ],
   "source": [
    "time_hook = np.sum(hook_logdet['time'])\n",
    "time_hook"
   ]
  },
  {
   "cell_type": "code",
   "execution_count": 40,
   "metadata": {},
   "outputs": [
    {
     "data": {
      "text/plain": [
       "1932.1905317306519"
      ]
     },
     "execution_count": 40,
     "metadata": {},
     "output_type": "execute_result"
    }
   ],
   "source": [
    "time_snip = np.sum(snip['time'])\n",
    "time_snip"
   ]
  },
  {
   "cell_type": "code",
   "execution_count": 41,
   "metadata": {},
   "outputs": [
    {
     "data": {
      "text/plain": [
       "1995.3086326122284"
      ]
     },
     "execution_count": 41,
     "metadata": {},
     "output_type": "execute_result"
    }
   ],
   "source": [
    "time_synflow = np.sum(synflow['time'])\n",
    "time_synflow"
   ]
  }
 ],
 "metadata": {
  "kernelspec": {
   "display_name": "Python 3",
   "language": "python",
   "name": "python3"
  },
  "language_info": {
   "codemirror_mode": {
    "name": "ipython",
    "version": 3
   },
   "file_extension": ".py",
   "mimetype": "text/x-python",
   "name": "python",
   "nbconvert_exporter": "python",
   "pygments_lexer": "ipython3",
   "version": "3.7.4"
  }
 },
 "nbformat": 4,
 "nbformat_minor": 4
}
